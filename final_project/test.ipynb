{
 "cells": [
  {
   "cell_type": "markdown",
   "metadata": {
    "application/vnd.databricks.v1+cell": {
     "cellMetadata": {
      "byteLimit": 2048000,
      "rowLimit": 10000
     },
     "inputWidgets": {},
     "nuid": "fc749083-2211-485c-943f-640e198b2c70",
     "showTitle": false,
     "tableResultSettingsMap": {},
     "title": ""
    }
   },
   "source": [
    "## DSCC202-402 Data Science at Scale Final Project\n",
    "### Tracking Tweet sentiment at scale using a pretrained transformer (classifier)\n",
    "<p>Consider the following illustration of the end to end system that you will be building.  Each student should do their own work.  The project will demonstrate your understanding of Spark Streaming, the medalion data architecture using Delta Lake, Spark Inference at Scale using an MLflow packaged model as well as Exploritory Data Analysis and System Tracking and Monitoring.</p>\n",
    "<br><br>\n",
    "<img src=\"https://data-science-at-scale.s3.amazonaws.com/images/pipeline.drawio.png\">\n",
    "\n",
    "<p>\n",
    "You will be pulling an updated copy of the course GitHub repositiory: <a href=\"https://github.com/lpalum/dscc202-402-spring2025\">The Repo</a>.  \n",
    "\n",
    "Once you have updated your fork of the repository you should see the following template project that is resident in the final_project directory.\n",
    "</p>\n",
    "\n",
    "<img src=\"https://data-science-at-scale.s3.amazonaws.com/images/notebooks.drawio.png\">\n",
    "\n",
    "<p>\n",
    "You can then pull your project into the Databrick Workspace using the <a href=\"https://github.com/apps/databricks\">Databricks App on Github</a> or by cloning the repo to your laptop and then uploading the final_project directory and its contents to your workspace using file imports.  Your choice.\n",
    "\n",
    "<p>\n",
    "Work your way through this notebook which will give you the steps required to submit a complete and compliant project.  The following illustration and associated data dictionary specifies the transformations and data that you are to generate for each step in the medallion pipeline.\n",
    "</p>\n",
    "<br><br>\n",
    "<img src=\"https://data-science-at-scale.s3.amazonaws.com/images/dataframes.drawio.png\">\n",
    "\n",
    "#### Bronze Data - raw ingest\n",
    "- date - string in the source json\n",
    "- user - string in the source json\n",
    "- text - tweet string in the source json\n",
    "- sentiment - the given sentiment of the text as determined by an unknown model that is provided in the source json\n",
    "- source_file - the path of the source json file the this row of data was read from\n",
    "- processing_time - a timestamp of when you read this row from the source json\n",
    "\n",
    "#### Silver Data - Bronze Preprocessing\n",
    "- timestamp - convert date string in the bronze data to a timestamp\n",
    "- mention - every @username mentioned in the text string in the bronze data gets a row in this silver data table.\n",
    "- cleaned_text - the bronze text data with the mentions (@username) removed.\n",
    "- sentiment - the given sentiment that was associated with the text in the bronze table.\n",
    "\n",
    "#### Gold Data - Silver Table Inference\n",
    "- timestamp - the timestamp from the silver data table rows\n",
    "- mention - the mention from the silver data table rows\n",
    "- cleaned_text - the cleaned_text from the silver data table rows\n",
    "- sentiment - the given sentiment from the silver data table rows\n",
    "- predicted_score - score out of 100 from the Hugging Face Sentiment Transformer\n",
    "- predicted_sentiment - string representation of the sentiment\n",
    "- sentiment_id - 0 for negative and 1 for postive associated with the given sentiment\n",
    "- predicted_sentiment_id - 0 for negative and 1 for positive assocaited with the Hugging Face Sentiment Transformer\n",
    "\n",
    "#### Application Data - Gold Table Aggregation\n",
    "- min_timestamp - the oldest timestamp on a given mention (@username)\n",
    "- max_timestamp - the newest timestamp on a given mention (@username)\n",
    "- mention - the user (@username) that this row pertains to.\n",
    "- negative - total negative tweets directed at this mention (@username)\n",
    "- neutral - total neutral tweets directed at this mention (@username)\n",
    "- positive - total positive tweets directed at this mention (@username)\n",
    "\n",
    "When you are designing your approach, one of the main decisions that you will need to make is how you are going to orchestrate the streaming data processing in your pipeline.  There are several valid approaches to triggering your steams and how you will gate the execution of your pipeline.  Think through how you want to proceed and ask questions if you need guidance. The following references may be helpful:\n",
    "- [Spark Structured Streaming Programming Guide](https://spark.apache.org/docs/latest/structured-streaming-programming-guide.html)\n",
    "- [Databricks Autoloader - Cloudfiles](https://docs.databricks.com/en/ingestion/auto-loader/index.html)\n",
    "- [In class examples - Spark Structured Streaming Performance](https://dbc-f85bdc5b-07db.cloud.databricks.com/editor/notebooks/2638424645880316?o=1093580174577663)\n",
    "\n",
    "### Be sure your project runs end to end when *Run all* is executued on this notebook! (7 points)\n",
    "\n",
    "### This project is worth 25% of your final grade.\n",
    "- DSCC-202 Students have 55 possible points on this project (see points above and the instructions below)\n",
    "- DSCC-402 Students have 60 possible points on this project (one extra section to complete)"
   ]
  },
  {
   "cell_type": "code",
   "execution_count": 0,
   "metadata": {
    "application/vnd.databricks.v1+cell": {
     "cellMetadata": {
      "byteLimit": 2048000,
      "rowLimit": 10000
     },
     "inputWidgets": {},
     "nuid": "068f25d0-1387-4342-89cf-ce82a8d614ce",
     "showTitle": true,
     "tableResultSettingsMap": {},
     "title": "Pull in the Includes & Utiltites"
    }
   },
   "outputs": [],
   "source": [
    "%run ./includes/includes"
   ]
  },
  {
   "cell_type": "code",
   "execution_count": 0,
   "metadata": {
    "application/vnd.databricks.v1+cell": {
     "cellMetadata": {
      "byteLimit": 2048000,
      "rowLimit": 10000
     },
     "inputWidgets": {},
     "nuid": "6512bf1b-50e0-4a4b-84a9-e280a6260b56",
     "showTitle": true,
     "tableResultSettingsMap": {},
     "title": "Notebook Control Widgets (maybe helpful)"
    }
   },
   "outputs": [],
   "source": [
    "\"\"\"\n",
    "Adding a widget to the notebook to control the clearing of a previous run.\n",
    "or stopping the active streams using routines defined in the utilities notebook\n",
    "\"\"\"\n",
    "dbutils.widgets.removeAll()\n",
    "\n",
    "dbutils.widgets.dropdown(\"clear_previous_run\", \"No\", [\"No\",\"Yes\"])\n",
    "if (getArgument(\"clear_previous_run\") == \"Yes\"):\n",
    "    clear_previous_run()\n",
    "    print(\"Cleared all previous data.\")\n",
    "\n",
    "dbutils.widgets.dropdown(\"stop_streams\", \"No\", [\"No\",\"Yes\"])\n",
    "if (getArgument(\"stop_streams\") == \"Yes\"):\n",
    "    stop_all_streams()\n",
    "    print(\"Stopped all active streams.\")\n",
    "\n",
    "dbutils.widgets.dropdown(\"optimize_tables\", \"No\", [\"No\",\"Yes\"])\n",
    "if (getArgument(\"optimize_tables\") == \"Yes\"):\n",
    "    # Suck up those small files that we have been appending.\n",
    "    # Optimize the tables\n",
    "    optimize_table(BRONZE_DELTA)\n",
    "    optimize_table(SILVER_DELTA)\n",
    "    optimize_table(GOLD_DELTA)\n",
    "    print(\"Optimized all of the Delta Tables\")"
   ]
  },
  {
   "cell_type": "markdown",
   "metadata": {
    "application/vnd.databricks.v1+cell": {
     "cellMetadata": {
      "byteLimit": 2048000,
      "rowLimit": 10000
     },
     "inputWidgets": {},
     "nuid": "e8ce7c13-7f8f-4e11-b50c-fdaebbcf3f99",
     "showTitle": false,
     "tableResultSettingsMap": {},
     "title": ""
    }
   },
   "source": [
    "## 1.0 Import your libraries here (2 points)\n",
    "- Are your shuffle partitions consistent with your cluster and your workload?\n",
    "- Do you have the necessary libraries to perform the required operations in the pipeline/application?"
   ]
  },
  {
   "cell_type": "code",
   "execution_count": 0,
   "metadata": {
    "application/vnd.databricks.v1+cell": {
     "cellMetadata": {
      "byteLimit": 2048000,
      "rowLimit": 10000
     },
     "inputWidgets": {},
     "nuid": "31785d09-ef9b-4ee3-b356-171cc57dfd07",
     "showTitle": false,
     "tableResultSettingsMap": {},
     "title": ""
    }
   },
   "outputs": [],
   "source": [
    "# ENTER YOUR CODE HERE\n",
    "from pyspark.sql import SparkSession\n",
    "from pyspark.sql.functions import col, count, desc, when, isnan, to_timestamp, explode, udf, regexp_replace, expr, lower, trim\n",
    "from pyspark.sql.types import StringType, StructType, StructField, TimestampType, DoubleType, IntegerType, FloatType\n",
    "from delta.tables import DeltaTable\n",
    "import delta\n",
    "import mlflow\n",
    "import mlflow.pyfunc\n",
    "from mlflow.pyfunc import spark_udf\n",
    "from transformers import pipeline\n",
    "import os\n",
    "import json\n",
    "import time\n",
    "import shutil\n",
    "from datetime import datetime\n",
    "import pandas as pd\n",
    "import numpy as np\n",
    "import matplotlib.pyplot as plt\n",
    "from sklearn.metrics import precision_score, recall_score, f1_score, confusion_matrix, ConfusionMatrixDisplay\n",
    "import time\n",
    "spark.conf.set(\"spark.sql.shuffle.partitions\", \"12\")"
   ]
  },
  {
   "cell_type": "markdown",
   "metadata": {
    "application/vnd.databricks.v1+cell": {
     "cellMetadata": {
      "byteLimit": 2048000,
      "rowLimit": 10000
     },
     "inputWidgets": {},
     "nuid": "2b7624b4-0aa5-46b7-9767-52f462b2c574",
     "showTitle": false,
     "tableResultSettingsMap": {},
     "title": ""
    }
   },
   "source": [
    "## 2.0 Define and execute utility functions (3 points)\n",
    "- Read the source file directory listing\n",
    "- Count the source files (how many are there?)\n",
    "- print the contents of one of the files"
   ]
  },
  {
   "cell_type": "code",
   "execution_count": 0,
   "metadata": {
    "application/vnd.databricks.v1+cell": {
     "cellMetadata": {
      "byteLimit": 2048000,
      "rowLimit": 10000
     },
     "inputWidgets": {},
     "nuid": "a59749d5-e45d-460f-9be1-33652cda2ea5",
     "showTitle": false,
     "tableResultSettingsMap": {},
     "title": ""
    }
   },
   "outputs": [],
   "source": [
    "# ENTER YOUR CODE HERE\n",
    "files = dbutils.fs.ls(TWEET_SOURCE_PATH)\n",
    "print(f\"Count of files in the input directory: {len(files)}\")\n",
    "display(spark.read.json(files[0].path))"
   ]
  },
  {
   "cell_type": "markdown",
   "metadata": {
    "application/vnd.databricks.v1+cell": {
     "cellMetadata": {
      "byteLimit": 2048000,
      "rowLimit": 10000
     },
     "inputWidgets": {},
     "nuid": "1676aed7-527f-4ea7-9d3b-52544e8c1e37",
     "showTitle": false,
     "tableResultSettingsMap": {},
     "title": ""
    }
   },
   "source": [
    "## 3.0 Transform the Raw Data to Bronze Data using a stream  (8 points)\n",
    "- define the schema for the raw data\n",
    "- setup a read stream using cloudfiles and the source data format\n",
    "- setup a write stream using delta lake to append to the bronze delta table\n",
    "- enforce schema\n",
    "- allow a new schema to be merged into the bronze delta table\n",
    "- Use the defined BRONZE_CHECKPOINT and BRONZE_DELTA paths defined in the includes\n",
    "- name your raw to bronze stream as bronze_stream\n",
    "- transform the raw data to the bronze data using the data definition at the top of the notebook"
   ]
  },
  {
   "cell_type": "code",
   "execution_count": 0,
   "metadata": {
    "application/vnd.databricks.v1+cell": {
     "cellMetadata": {
      "byteLimit": 2048000,
      "rowLimit": 10000
     },
     "inputWidgets": {},
     "nuid": "d3df80ff-faae-490a-a0a5-e78f0d84775a",
     "showTitle": false,
     "tableResultSettingsMap": {},
     "title": ""
    }
   },
   "outputs": [],
   "source": [
    "# ENTER YOUR CODE HERE\n",
    "\n",
    "raw_data_schema = StructType([StructField(\"date\", StringType(), True), StructField(\"user\", StringType(), True), StructField(\"text\", StringType(), True), StructField(\"sentiment\", StringType(), True), StructField(\"source_file\", StringType(), True), StructField(\"processing_time\", TimestampType(), True)])\n",
    "\n",
    "bronze_stream = (\n",
    "    spark.readStream\n",
    "        .format(\"cloudFiles\")\n",
    "        .option(\"cloudFiles.format\", \"json\")\n",
    "        .option(\"cloudFiles.partitionColumns\", \"\")\n",
    "        .option(\"maxFilesPerTrigger\", 10)\n",
    "        .schema(raw_data_schema)\n",
    "        .load(TWEET_SOURCE_PATH)\n",
    ")\n",
    "\n",
    "\n",
    "(\n",
    "    bronze_stream.writeStream\n",
    "        .format(\"delta\")\n",
    "        .option(\"checkpointLocation\", BRONZE_CHECKPOINT)\n",
    "        .option(\"mergeSchema\", \"true\")\n",
    "        .outputMode(\"append\")\n",
    "        .trigger(processingTime=\"30 seconds\")\n",
    "        .queryName(\"bronze_stream\")\n",
    "        .start(BRONZE_DELTA)\n",
    ")"
   ]
  },
  {
   "cell_type": "markdown",
   "metadata": {
    "application/vnd.databricks.v1+cell": {
     "cellMetadata": {
      "byteLimit": 2048000,
      "rowLimit": 10000
     },
     "inputWidgets": {},
     "nuid": "f94a594e-1a85-458f-9fe8-959e06d2e5f0",
     "showTitle": false,
     "tableResultSettingsMap": {},
     "title": ""
    }
   },
   "source": [
    "## 4.0 Transform the Bronze Data to Silver Data using a stream (5 points)\n",
    "- setup a read stream on your bronze delta table\n",
    "- setup a write stream to append to the silver delta table\n",
    "- Use the defined SILVER_CHECKPOINT and SILVER_DELTA paths in the includes\n",
    "- name your bronze to silver stream as silver_stream\n",
    "- transform the bronze data to the silver data using the data definition at the top of the notebook"
   ]
  },
  {
   "cell_type": "code",
   "execution_count": 0,
   "metadata": {
    "application/vnd.databricks.v1+cell": {
     "cellMetadata": {
      "byteLimit": 2048000,
      "rowLimit": 10000
     },
     "inputWidgets": {},
     "nuid": "a1703b59-edf6-4adb-a392-0ce38793198a",
     "showTitle": false,
     "tableResultSettingsMap": {},
     "title": ""
    }
   },
   "outputs": [],
   "source": [
    "# ENTER YOUR CODE HERE\n",
    "\n",
    "bronze_stream =(\n",
    "    spark.readStream\n",
    "    .format(\"delta\")\n",
    "    .load(BRONZE_DELTA)\n",
    ")\n",
    "\n",
    "silver_stream = (\n",
    "    bronze_stream\n",
    "    .withColumn(\"timestamp\", to_timestamp(\"processing_time\"))\n",
    "    .withColumn(\"mention\", explode(expr(\"filter(split(text, ' '), x -> x LIKE '@%')\")))\n",
    "    .filter(col(\"mention\").startswith(\"@\"))                   \n",
    "    .withColumn(\"cleaned_text\", regexp_replace(col(\"text\"), \"@\\\\w+\", \"\")) \n",
    "    .select(\"timestamp\", \"mention\", \"cleaned_text\", \"sentiment\")\n",
    ")\n",
    "\n",
    "(\n",
    "    silver_stream.writeStream\n",
    "    .format(\"delta\")\n",
    "    .option(\"checkpointLocation\", SILVER_CHECKPOINT)\n",
    "    .outputMode(\"append\")\n",
    "    .trigger(processingTime=\"30 seconds\")\n",
    "    .queryName(\"silver_stream\")\n",
    "    .start(SILVER_DELTA)\n",
    ")"
   ]
  },
  {
   "cell_type": "markdown",
   "metadata": {
    "application/vnd.databricks.v1+cell": {
     "cellMetadata": {
      "byteLimit": 2048000,
      "rowLimit": 10000
     },
     "inputWidgets": {},
     "nuid": "9ee38aba-e340-4766-8339-71ef2ecfde3a",
     "showTitle": false,
     "tableResultSettingsMap": {},
     "title": ""
    }
   },
   "source": [
    "## 5.0 Transform the Silver Data to Gold Data using a stream (7 points)\n",
    "- setup a read stream on your silver delta table\n",
    "- setup a write stream to append to the gold delta table\n",
    "- Use the defined GOLD_CHECKPOINT and GOLD_DELTA paths defines in the includes\n",
    "- name your silver to gold stream as gold_stream\n",
    "- transform the silver data to the gold data using the data definition at the top of the notebook\n",
    "- Load the pretrained transformer sentiment classifier from the MODEL_NAME at the production level from the MLflow registry\n",
    "- Use a spark UDF to parallelize the inference across your silver data"
   ]
  },
  {
   "cell_type": "code",
   "execution_count": 0,
   "metadata": {
    "application/vnd.databricks.v1+cell": {
     "cellMetadata": {
      "byteLimit": 2048000,
      "rowLimit": 10000
     },
     "inputWidgets": {},
     "nuid": "0418dad4-3bac-474f-b752-a9ab5a878d04",
     "showTitle": false,
     "tableResultSettingsMap": {},
     "title": ""
    }
   },
   "outputs": [],
   "source": [
    "# ENTER YOUR CODE HERE\n",
    "\n",
    "hf_pipeline = pipeline(\"sentiment-analysis\", model=HF_MODEL_NAME)\n",
    "\n",
    "def predict_sentiment_struct(text):\n",
    "    result = hf_pipeline([text])[0]\n",
    "    label = result[\"label\"].upper()\n",
    "    score = result[\"score\"]\n",
    "    sentiment_id = 1 if label == \"POSITIVE\" else 0\n",
    "    return(label, score, sentiment_id)\n",
    "\n",
    "sentiment_schema = StructType([\n",
    "    StructField(\"predicted_sentiment\", StringType())\n",
    "    ,StructField(\"predicted_score\", DoubleType())\n",
    "    ,StructField(\"predicted_sentiment_id\", IntegerType())\n",
    "])\n",
    "\n",
    "predict_sentiment_udf = udf(predict_sentiment_struct, sentiment_schema)\n",
    "\n",
    "silver_stream = (\n",
    "    spark.readStream\n",
    "    .format(\"delta\")\n",
    "    .load(SILVER_DELTA)\n",
    ")\n",
    "\n",
    "gold_stream = (\n",
    "    silver_stream\n",
    "    .withColumn(\"sentiment_struct\", predict_sentiment_udf(col(\"cleaned_text\")))\n",
    "    .select(\n",
    "        \"timestamp\", \"mention\", \"cleaned_text\", \"sentiment\",\n",
    "        col(\"sentiment_struct.predicted_sentiment\"),\n",
    "        col(\"sentiment_struct.predicted_score\"),\n",
    "        col(\"sentiment_struct.predicted_sentiment_id\")\n",
    "    )\n",
    ")\n",
    "\n",
    "(\n",
    "    gold_stream.writeStream\n",
    "    .format(\"delta\")\n",
    "    .option(\"checkpointLocation\", GOLD_CHECKPOINT)\n",
    "    .outputMode(\"append\")\n",
    "    .trigger(processingTime=\"30 seconds\")\n",
    "    .queryName(\"gold_stream\")\n",
    "    .start(GOLD_DELTA)\n",
    ")"
   ]
  },
  {
   "cell_type": "markdown",
   "metadata": {
    "application/vnd.databricks.v1+cell": {
     "cellMetadata": {
      "byteLimit": 2048000,
      "rowLimit": 10000
     },
     "inputWidgets": {},
     "nuid": "05cd829f-46d6-4d94-8555-887d29a33daf",
     "showTitle": false,
     "tableResultSettingsMap": {},
     "title": ""
    }
   },
   "source": [
    "## 6.0 Monitor your Streams (5 points)\n",
    "- Setup a loop that runs at least every 10 seconds\n",
    "- Print a timestamp of the monitoring query along with the list of streams, rows processed on each, and the processing time on each\n",
    "- Run the loop until all of the data is processed (0 rows read on each active stream)\n",
    "- Plot a line graph that shows the data processed by each stream over time\n",
    "- Plot a line graph that shows the average processing time on each stream over time"
   ]
  },
  {
   "cell_type": "code",
   "execution_count": 0,
   "metadata": {
    "application/vnd.databricks.v1+cell": {
     "cellMetadata": {
      "byteLimit": 2048000,
      "rowLimit": 10000
     },
     "inputWidgets": {},
     "nuid": "f70525e3-2ba7-4768-a09d-7d35893f9598",
     "showTitle": false,
     "tableResultSettingsMap": {},
     "title": ""
    }
   },
   "outputs": [],
   "source": [
    "# ENTER CODE HERE\n",
    "\n",
    "def get_streaming_stats():\n",
    "    data = []\n",
    "    start_time = None\n",
    "\n",
    "    required_queries = {\"bronze_stream\", \"silver_stream\", \"gold_stream\"}\n",
    "\n",
    "    print(\"Waiting for all streams to become active + initialized...\")\n",
    "\n",
    "    while True:\n",
    "        active_streams = {q.name: q for q in spark.streams.active}\n",
    "        \n",
    "        # Considering streams that have at least one progress update\n",
    "        initialized = {\n",
    "            name for name, q in active_streams.items()\n",
    "            if name in required_queries and q.recentProgress and len(q.recentProgress) > 0\n",
    "        }\n",
    "\n",
    "        print(f\"Initialized streams: {initialized}\")\n",
    "        \n",
    "        if initialized == required_queries:\n",
    "            print(\"All required streams are initialized.\")\n",
    "            break\n",
    "\n",
    "        time.sleep(60)\n",
    "\n",
    "    for q in spark.streams.active:\n",
    "        for p in q.recentProgress:\n",
    "            timestamp = datetime.strptime(p[\"timestamp\"], \"%Y-%m-%dT%H:%M:%S.%fZ\")\n",
    "\n",
    "            if start_time is None:\n",
    "                start_time = timestamp\n",
    "\n",
    "            elapsed_time = (timestamp - start_time).total_seconds()\n",
    "\n",
    "            processing_time = p[\"durationMs\"].get(\"addBatch\", None) if \"durationMs\" in p else None\n",
    "\n",
    "            data.append({\n",
    "                \"query\": q.name,\n",
    "                \"elapsed_time\": elapsed_time,\n",
    "                \"input_rows\": p.get(\"numInputRows\", 0),\n",
    "                \"processing_time\": processing_time\n",
    "            })\n",
    "\n",
    "    return pd.DataFrame(data)\n",
    "\n",
    "# Monitoring Loop\n",
    "print(\"Monitoring active streams...\")\n",
    "\n",
    "row_count = 1\n",
    "i = 0\n",
    "while row_count != 0:\n",
    "    time.sleep(10)\n",
    "\n",
    "    stats = get_streaming_stats()\n",
    "    if not stats.empty:\n",
    "        latest_stats = stats.sort_values(\"elapsed_time\").groupby(\"query\").last().reset_index()\n",
    "        print(f\"\\n[{datetime.now().strftime('%H:%M:%S')}] Elapsed: {i*10}s\")\n",
    "        for _, row in latest_stats.iterrows():\n",
    "            print(f\"  {row['query']}: {row['input_rows']} rows, {row['processing_time']} ms processing time\")\n",
    "        row_count = latest_stats[\"input_rows\"].sum()\n",
    "        i += 1\n",
    "\n",
    "        if all(latest_stats[\"input_rows\"] == 0):\n",
    "            print(\"All streams have finished - exit monitoring.\")\n",
    "            break\n",
    "\n",
    "\n",
    "df = get_streaming_stats()\n",
    "\n",
    "# Plotting\n",
    "if not df.empty:\n",
    "    fig, (ax1, ax2) = plt.subplots(2, 1, figsize=(12, 10), sharex=True)\n",
    "\n",
    "    # Plot 1: Processing Time\n",
    "    for q in df[\"query\"].unique():\n",
    "        subset = df[df[\"query\"] == q]\n",
    "        ax1.plot(subset[\"elapsed_time\"], subset[\"processing_time\"], marker='o', linestyle='-', label=q)\n",
    "    ax1.set_ylabel(\"Processing Time (ms)\")\n",
    "    ax1.set_title(\"Spark Streaming Processing Time\")\n",
    "    ax1.legend()\n",
    "    ax1.grid(True)\n",
    "\n",
    "    # Plot 2: Input Rows\n",
    "    for q in df[\"query\"].unique():\n",
    "        subset = df[df[\"query\"] == q]\n",
    "        ax2.plot(subset[\"elapsed_time\"], subset[\"input_rows\"], marker='o', linestyle='-', label=q)\n",
    "    ax2.set_xlabel(\"Elapsed Time (seconds)\")\n",
    "    ax2.set_ylabel(\"Input Rows\")\n",
    "    ax2.set_title(\"Spark Streaming Input Rows\")\n",
    "    ax2.legend()\n",
    "    ax2.grid(True)\n",
    "\n",
    "    plt.tight_layout()\n",
    "    plt.show()"
   ]
  },
  {
   "cell_type": "markdown",
   "metadata": {
    "application/vnd.databricks.v1+cell": {
     "cellMetadata": {
      "byteLimit": 2048000,
      "rowLimit": 10000
     },
     "inputWidgets": {},
     "nuid": "9bc3e824-d218-43e5-a43b-4c6dbe31950d",
     "showTitle": false,
     "tableResultSettingsMap": {},
     "title": ""
    }
   },
   "source": [
    "## 7.0 Bronze Data Exploratory Data Analysis (5 points)\n",
    "- How many tweets are captured in your Bronze Table?\n",
    "- Are there any columns that contain Nan or Null values?  If so how many and what will you do in your silver transforms to address this?\n",
    "- Count the number of tweets by each unique user handle and sort the data by descending count.\n",
    "- How many tweets have at least one mention (@) how many tweet have no mentions (@)\n",
    "- Plot a bar chart that shows the top 20 tweeters (users)\n"
   ]
  },
  {
   "cell_type": "code",
   "execution_count": 0,
   "metadata": {
    "application/vnd.databricks.v1+cell": {
     "cellMetadata": {
      "byteLimit": 2048000,
      "rowLimit": 10000
     },
     "inputWidgets": {},
     "nuid": "33e05866-0264-43af-8a95-52e841124d60",
     "showTitle": false,
     "tableResultSettingsMap": {},
     "title": ""
    }
   },
   "outputs": [],
   "source": [
    "# ENTER YOUR CODE HERE\n",
    "\n",
    "BRONZE_DF = spark.read.format(\"delta\").load(BRONZE_DELTA)\n",
    "tweet_count = BRONZE_DF.count()\n",
    "print(f\"Total number of tweets: {tweet_count}\")\n",
    "\n",
    "null_exprs = []\n",
    "for c in BRONZE_DF.columns:\n",
    "    dtype = BRONZE_DF.schema[c].dataType\n",
    "    if isinstance(dtype, (DoubleType, FloatType)):\n",
    "        null_exprs.append(count(when(col(c).isNull() | isnan(col(c)), c)).alias(c))\n",
    "    else:\n",
    "        null_exprs.append(count(when(col(c).isNull(), c)).alias(c))\n",
    "\n",
    "null_check = BRONZE_DF.select(null_exprs)\n",
    "print(\"Null/NaN counts per column:\")\n",
    "null_check.show()\n",
    "\n",
    "user_counts = BRONZE_DF.groupBy(\"user\").count().orderBy(desc(\"count\"))\n",
    "user_counts.show()\n",
    "\n",
    "mention_col = \"text\"\n",
    "with_mentions = BRONZE_DF.filter(col(mention_col).contains(\"@\")).count()\n",
    "without_mentions = BRONZE_DF.filter(~col(mention_col).contains(\"@\")).count()\n",
    "print(f\"Tweets with @mention: {with_mentions}\")\n",
    "print(f\"Tweets without @mention: {without_mentions}\")\n",
    "\n",
    "top20_users = user_counts.limit(20).toPandas()\n",
    "\n",
    "plt.figure(figsize=(12, 6))\n",
    "bars = plt.bar(top20_users[\"user\"], top20_users[\"count\"], color=\"skyblue\")\n",
    "plt.title(\"Top 20 Users by Tweet Count\")\n",
    "plt.ylabel(\"Tweet Count\")\n",
    "plt.xlabel(\"User\")\n",
    "plt.xticks(rotation=45)\n",
    "plt.tight_layout()\n",
    "plt.show()"
   ]
  },
  {
   "cell_type": "markdown",
   "metadata": {
    "application/vnd.databricks.v1+cell": {
     "cellMetadata": {
      "byteLimit": 2048000,
      "rowLimit": 10000
     },
     "inputWidgets": {},
     "nuid": "0494d8b4-5a55-47fc-af12-47325f34a303",
     "showTitle": false,
     "tableResultSettingsMap": {},
     "title": ""
    }
   },
   "source": [
    "## 8.0 Capture the accuracy metrics from the gold table in MLflow  (4 points)\n",
    "Store the following in an MLflow experiment run:\n",
    "- Store the precision, recall, and F1-score as MLflow metrics\n",
    "- Store an image of the confusion matrix as an MLflow artifact\n",
    "- Store the model name and the MLflow version that was used as an MLflow parameters\n",
    "- Store the version of the Delta Table (input-silver) as an MLflow parameter"
   ]
  },
  {
   "cell_type": "code",
   "execution_count": 0,
   "metadata": {
    "application/vnd.databricks.v1+cell": {
     "cellMetadata": {
      "byteLimit": 2048000,
      "rowLimit": 10000
     },
     "inputWidgets": {},
     "nuid": "3bb174ad-67e4-4b0a-be36-ff20a760ee8b",
     "showTitle": false,
     "tableResultSettingsMap": {},
     "title": ""
    }
   },
   "outputs": [],
   "source": [
    "# ENTER YOUR CODE HERE\n",
    "\n",
    "GOLD_DF = spark.read.format(\"delta\").load(GOLD_DELTA)\n",
    "\n",
    "pdf = GOLD_DF.select(\n",
    "    \"sentiment\",\n",
    "    \"predicted_sentiment\",\n",
    "    \"predicted_sentiment_id\",\n",
    "    \"predicted_score\"\n",
    ").toPandas()\n",
    "\n",
    "y_true = pdf[\"sentiment\"].str.upper()\n",
    "y_pred = pdf[\"predicted_sentiment\"].str.upper()\n",
    "\n",
    "precision = precision_score(y_true, y_pred, average=\"macro\")\n",
    "recall = recall_score(y_true, y_pred, average=\"macro\")\n",
    "f1 = f1_score(y_true, y_pred, average=\"macro\")\n",
    "\n",
    "cm = confusion_matrix(y_true, y_pred, labels=[\"POSITIVE\", \"NEGATIVE\", \"NEU\"])\n",
    "disp = ConfusionMatrixDisplay(confusion_matrix=cm, display_labels=[\"POS\", \"NEG\", \"NEU\"])\n",
    "\n",
    "fig, ax = plt.subplots(figsize=(6, 6))\n",
    "disp.plot(ax=ax)\n",
    "plt.tight_layout()\n",
    "conf_matrix_path = \"/tmp/confusion_matrix.png\"\n",
    "plt.savefig(conf_matrix_path)\n",
    "plt.close()\n",
    "\n",
    "with mlflow.start_run(run_name=\"gold_metrics_logging\"):\n",
    "    mlflow.log_metric(\"precision\", precision)\n",
    "    mlflow.log_metric(\"recall\", recall)\n",
    "    mlflow.log_metric(\"f1_score\", f1)\n",
    "\n",
    "    mlflow.log_artifact(conf_matrix_path)\n",
    "\n",
    "    mlflow.log_param(\"model_name\", MODEL_NAME)\n",
    "    mlflow.log_param(\"mlflow_version\", mlflow.__version__)\n",
    "\n",
    "    delta_table = DeltaTable.forPath(spark, GOLD_DELTA)\n",
    "    delta_version = delta_table.history().select(\"version\").orderBy(\"version\", ascending=False).first()[\"version\"]\n",
    "    mlflow.log_param(\"delta_version\", delta_version)"
   ]
  },
  {
   "cell_type": "markdown",
   "metadata": {
    "application/vnd.databricks.v1+cell": {
     "cellMetadata": {
      "byteLimit": 2048000,
      "rowLimit": 10000
     },
     "inputWidgets": {},
     "nuid": "81e0e2de-b872-4698-81cc-1669646c2183",
     "showTitle": false,
     "tableResultSettingsMap": {},
     "title": ""
    }
   },
   "source": [
    "## 9.0 Application Data Processing and Visualization (6 points)\n",
    "- How many mentions are there in the gold data total?\n",
    "- Count the number of neutral, positive and negative tweets for each mention in new columns\n",
    "- Capture the total for each mention in a new column\n",
    "- Sort the mention count totals in descending order\n",
    "- Plot a bar chart of the top 20 mentions with positive sentiment (the people who are in favor)\n",
    "- Plot a bar chart of the top 20 mentions with negative sentiment (the people who are the vilians)\n",
    "\n",
    "*note: A mention is a specific twitter user that has been \"mentioned\" in a tweet with an @user reference."
   ]
  },
  {
   "cell_type": "code",
   "execution_count": 0,
   "metadata": {
    "application/vnd.databricks.v1+cell": {
     "cellMetadata": {
      "byteLimit": 2048000,
      "rowLimit": 10000
     },
     "inputWidgets": {},
     "nuid": "8250667b-eaa5-48a1-90c7-bfe11e666e32",
     "showTitle": false,
     "tableResultSettingsMap": {},
     "title": ""
    }
   },
   "outputs": [],
   "source": [
    "# ENTER YOUR CODE HERE\n",
    "\n",
    "gold_df = spark.read.format(\"delta\").load(GOLD_DELTA)\n",
    "\n",
    "mention_count = gold_df.filter(col(\"mention\").isNotNull()).count()\n",
    "print(f\"Total number of mentions: {mention_count}\")\n",
    "\n",
    "gold_df = gold_df.withColumn(\"sentiment\", trim(lower(col(\"sentiment\"))))\n",
    "\n",
    "mention_sentiment_counts = (\n",
    "    gold_df.filter(col(\"mention\").isNotNull())\n",
    "    .groupBy(\"mention\")\n",
    "    .agg(\n",
    "        count(when(col(\"sentiment\") == \"neu\", True)).alias(\"neutral\"),\n",
    "        count(when(col(\"sentiment\") == \"positive\", True)).alias(\"positive\"),\n",
    "        count(when(col(\"sentiment\") == \"negative\", True)).alias(\"negative\")\n",
    "    )\n",
    ")\n",
    "\n",
    "mention_sentiment_counts = mention_sentiment_counts.withColumn(\n",
    "    \"total\", col(\"neutral\") + col(\"positive\") + col(\"negative\")\n",
    ")\n",
    "\n",
    "mention_sorted = mention_sentiment_counts.orderBy(col(\"total\").desc())\n",
    "mention_sorted.show()\n",
    "\n",
    "top20_positive = mention_sorted.orderBy(col(\"positive\").desc()).limit(20).toPandas()\n",
    "plt.figure(figsize=(12, 6))\n",
    "plt.bar(top20_positive[\"mention\"], top20_positive[\"positive\"], color='green')\n",
    "plt.title(\"Top 20 Mentions with Positive Sentiment\")\n",
    "plt.xlabel(\"Mention\")\n",
    "plt.ylabel(\"Positive Tweet Count\")\n",
    "plt.xticks(rotation=90)\n",
    "plt.tight_layout()\n",
    "plt.show()\n",
    "\n",
    "top20_negative = mention_sorted.orderBy(col(\"negative\").desc()).limit(20).toPandas()\n",
    "plt.figure(figsize=(12, 6))\n",
    "plt.bar(top20_negative[\"mention\"], top20_negative[\"negative\"], color='red')\n",
    "plt.title(\"Top 20 Mentions with Negative Sentiment\")\n",
    "plt.xlabel(\"Mention\")\n",
    "plt.ylabel(\"Negative Tweet Count\")\n",
    "plt.xticks(rotation=90)\n",
    "plt.tight_layout()\n",
    "plt.show()"
   ]
  },
  {
   "cell_type": "markdown",
   "metadata": {
    "application/vnd.databricks.v1+cell": {
     "cellMetadata": {
      "byteLimit": 2048000,
      "rowLimit": 10000
     },
     "inputWidgets": {},
     "nuid": "5d5add3f-0c13-4d81-86d8-12cf3cfdd2c8",
     "showTitle": false,
     "tableResultSettingsMap": {},
     "title": ""
    }
   },
   "source": [
    "## 10.0 Clean up and completion of your pipeline (3 points)\n",
    "- using the utilities what streams are running? If any.\n",
    "- Stop all active streams\n",
    "- print out the elapsed time of your notebook. Note: In the includes there is a variable START_TIME that captures the starting time of the notebook."
   ]
  },
  {
   "cell_type": "code",
   "execution_count": 0,
   "metadata": {
    "application/vnd.databricks.v1+cell": {
     "cellMetadata": {
      "byteLimit": 2048000,
      "rowLimit": 10000
     },
     "inputWidgets": {},
     "nuid": "0304e685-c26e-447d-b230-c37266f30003",
     "showTitle": false,
     "tableResultSettingsMap": {},
     "title": ""
    }
   },
   "outputs": [],
   "source": [
    "# ENTER YOUR CODE HERE\n",
    "\n",
    "print(\"Active Streams:\")\n",
    "for q in spark.streams.active:\n",
    "    print(f\" - {q.name}\")\n",
    "\n",
    "for q in spark.streams.active:\n",
    "    print(f\"Stopping stream: {q.name}\")\n",
    "    q.stop()\n",
    "\n",
    "end_time = time.time() \n",
    "elapsed = end_time - START_TIME\n",
    "print(f\"\\nTotal Elapsed Time: {elapsed:.2f} seconds\")\n"
   ]
  },
  {
   "cell_type": "markdown",
   "metadata": {
    "application/vnd.databricks.v1+cell": {
     "cellMetadata": {
      "byteLimit": 2048000,
      "rowLimit": 10000
     },
     "inputWidgets": {},
     "nuid": "b88fc0e5-f50c-4ed1-9480-16a4c8a44b30",
     "showTitle": false,
     "tableResultSettingsMap": {},
     "title": ""
    }
   },
   "source": [
    "## 11.0 How Optimized is your Spark Application (Grad Students Only) (5 points)\n",
    "Graduate students (registered for the DSCC-402 section of the course) are required to do this section.  This is a written analysis using the Spark UI (link to screen shots) that support your analysis of your pipelines execution and what is driving its performance.\n",
    "Recall that Spark Optimization has 5 significant dimensions of considertation:\n",
    "- Spill: write to executor disk due to lack of memory\n",
    "- Skew: imbalance in partition size\n",
    "- Shuffle: network io moving data between executors (wide transforms)\n",
    "- Storage: inefficiency due to disk storage format (small files, location)\n",
    "- Serialization: distribution of code segments across the cluster\n",
    "\n",
    "Comment on each of the dimentions of performance and how your impelementation is or is not being affected.  Use specific information in the Spark UI to support your description.  \n",
    "\n",
    "Note: you can take sreenshots of the Spark UI from your project runs in databricks and then link to those pictures by storing them as a publicly accessible file on your cloud drive (google, one drive, etc.)\n",
    "\n",
    "References:\n",
    "- [Spark UI Reference Reference](https://spark.apache.org/docs/latest/web-ui.html#web-ui)\n",
    "- [Spark UI Simulator](https://www.databricks.training/spark-ui-simulator/index.html)"
   ]
  },
  {
   "cell_type": "markdown",
   "metadata": {
    "application/vnd.databricks.v1+cell": {
     "cellMetadata": {
      "byteLimit": 2048000,
      "rowLimit": 10000
     },
     "inputWidgets": {},
     "nuid": "a0a5707d-a5ca-4e87-9e74-3b13d00337b0",
     "showTitle": false,
     "tableResultSettingsMap": {},
     "title": ""
    }
   },
   "source": [
    "### ENTER YOUR MARKDOWN HERE"
   ]
  }
 ],
 "metadata": {
  "application/vnd.databricks.v1+notebook": {
   "computePreferences": null,
   "dashboards": [],
   "environmentMetadata": null,
   "inputWidgetPreferences": null,
   "language": "python",
   "notebookMetadata": {
    "mostRecentlyExecutedCommandWithImplicitDF": {
     "commandId": 8616033267325483,
     "dataframes": [
      "_sqldf"
     ]
    },
    "pythonIndentUnit": 4,
    "widgetLayout": [
     {
      "breakBefore": false,
      "name": "clear_previous_run",
      "width": 203
     },
     {
      "breakBefore": false,
      "name": "stop_streams",
      "width": 203
     }
    ]
   },
   "notebookName": "test",
   "widgets": {
    "clear_previous_run": {
     "currentValue": "No",
     "nuid": "11b43403-c70f-41ef-ab0e-41172583baaa",
     "typedWidgetInfo": {
      "autoCreated": false,
      "defaultValue": "No",
      "label": null,
      "name": "clear_previous_run",
      "options": {
       "widgetDisplayType": "Dropdown",
       "choices": [
        "No",
        "Yes"
       ],
       "fixedDomain": true,
       "multiselect": false
      },
      "parameterDataType": "String"
     },
     "widgetInfo": {
      "widgetType": "dropdown",
      "defaultValue": "No",
      "label": null,
      "name": "clear_previous_run",
      "options": {
       "widgetType": "dropdown",
       "autoCreated": null,
       "choices": [
        "No",
        "Yes"
       ]
      }
     }
    },
    "optimize_tables": {
     "currentValue": "No",
     "nuid": "d27f2950-3146-4010-8bc6-58c47a93e7a9",
     "typedWidgetInfo": {
      "autoCreated": false,
      "defaultValue": "No",
      "label": null,
      "name": "optimize_tables",
      "options": {
       "widgetDisplayType": "Dropdown",
       "choices": [
        "No",
        "Yes"
       ],
       "fixedDomain": true,
       "multiselect": false
      },
      "parameterDataType": "String"
     },
     "widgetInfo": {
      "widgetType": "dropdown",
      "defaultValue": "No",
      "label": null,
      "name": "optimize_tables",
      "options": {
       "widgetType": "dropdown",
       "autoCreated": null,
       "choices": [
        "No",
        "Yes"
       ]
      }
     }
    },
    "stop_streams": {
     "currentValue": "No",
     "nuid": "d70a2190-266e-473c-86a7-84f7bf56b386",
     "typedWidgetInfo": {
      "autoCreated": false,
      "defaultValue": "No",
      "label": null,
      "name": "stop_streams",
      "options": {
       "widgetDisplayType": "Dropdown",
       "choices": [
        "No",
        "Yes"
       ],
       "fixedDomain": true,
       "multiselect": false
      },
      "parameterDataType": "String"
     },
     "widgetInfo": {
      "widgetType": "dropdown",
      "defaultValue": "No",
      "label": null,
      "name": "stop_streams",
      "options": {
       "widgetType": "dropdown",
       "autoCreated": null,
       "choices": [
        "No",
        "Yes"
       ]
      }
     }
    }
   }
  },
  "language_info": {
   "name": "python"
  }
 },
 "nbformat": 4,
 "nbformat_minor": 0
}
