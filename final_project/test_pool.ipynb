{
 "cells": [
  {
   "cell_type": "markdown",
   "metadata": {
    "application/vnd.databricks.v1+cell": {
     "cellMetadata": {
      "byteLimit": 2048000,
      "rowLimit": 10000
     },
     "inputWidgets": {},
     "nuid": "fc749083-2211-485c-943f-640e198b2c70",
     "showTitle": false,
     "tableResultSettingsMap": {},
     "title": ""
    }
   },
   "source": [
    "## DSCC202-402 Data Science at Scale Final Project\n",
    "### Tracking Tweet sentiment at scale using a pretrained transformer (classifier)\n",
    "<p>Consider the following illustration of the end to end system that you will be building.  Each student should do their own work.  The project will demonstrate your understanding of Spark Streaming, the medalion data architecture using Delta Lake, Spark Inference at Scale using an MLflow packaged model as well as Exploritory Data Analysis and System Tracking and Monitoring.</p>\n",
    "<br><br>\n",
    "<img src=\"https://data-science-at-scale.s3.amazonaws.com/images/pipeline.drawio.png\">\n",
    "\n",
    "<p>\n",
    "You will be pulling an updated copy of the course GitHub repositiory: <a href=\"https://github.com/lpalum/dscc202-402-spring2025\">The Repo</a>.  \n",
    "\n",
    "Once you have updated your fork of the repository you should see the following template project that is resident in the final_project directory.\n",
    "</p>\n",
    "\n",
    "<img src=\"https://data-science-at-scale.s3.amazonaws.com/images/notebooks.drawio.png\">\n",
    "\n",
    "<p>\n",
    "You can then pull your project into the Databrick Workspace using the <a href=\"https://github.com/apps/databricks\">Databricks App on Github</a> or by cloning the repo to your laptop and then uploading the final_project directory and its contents to your workspace using file imports.  Your choice.\n",
    "\n",
    "<p>\n",
    "Work your way through this notebook which will give you the steps required to submit a complete and compliant project.  The following illustration and associated data dictionary specifies the transformations and data that you are to generate for each step in the medallion pipeline.\n",
    "</p>\n",
    "<br><br>\n",
    "<img src=\"https://data-science-at-scale.s3.amazonaws.com/images/dataframes.drawio.png\">\n",
    "\n",
    "#### Bronze Data - raw ingest\n",
    "- date - string in the source json\n",
    "- user - string in the source json\n",
    "- text - tweet string in the source json\n",
    "- sentiment - the given sentiment of the text as determined by an unknown model that is provided in the source json\n",
    "- source_file - the path of the source json file the this row of data was read from\n",
    "- processing_time - a timestamp of when you read this row from the source json\n",
    "\n",
    "#### Silver Data - Bronze Preprocessing\n",
    "- timestamp - convert date string in the bronze data to a timestamp\n",
    "- mention - every @username mentioned in the text string in the bronze data gets a row in this silver data table.\n",
    "- cleaned_text - the bronze text data with the mentions (@username) removed.\n",
    "- sentiment - the given sentiment that was associated with the text in the bronze table.\n",
    "\n",
    "#### Gold Data - Silver Table Inference\n",
    "- timestamp - the timestamp from the silver data table rows\n",
    "- mention - the mention from the silver data table rows\n",
    "- cleaned_text - the cleaned_text from the silver data table rows\n",
    "- sentiment - the given sentiment from the silver data table rows\n",
    "- predicted_score - score out of 100 from the Hugging Face Sentiment Transformer\n",
    "- predicted_sentiment - string representation of the sentiment\n",
    "- sentiment_id - 0 for negative and 1 for postive associated with the given sentiment\n",
    "- predicted_sentiment_id - 0 for negative and 1 for positive assocaited with the Hugging Face Sentiment Transformer\n",
    "\n",
    "#### Application Data - Gold Table Aggregation\n",
    "- min_timestamp - the oldest timestamp on a given mention (@username)\n",
    "- max_timestamp - the newest timestamp on a given mention (@username)\n",
    "- mention - the user (@username) that this row pertains to.\n",
    "- negative - total negative tweets directed at this mention (@username)\n",
    "- neutral - total neutral tweets directed at this mention (@username)\n",
    "- positive - total positive tweets directed at this mention (@username)\n",
    "\n",
    "When you are designing your approach, one of the main decisions that you will need to make is how you are going to orchestrate the streaming data processing in your pipeline.  There are several valid approaches to triggering your steams and how you will gate the execution of your pipeline.  Think through how you want to proceed and ask questions if you need guidance. The following references may be helpful:\n",
    "- [Spark Structured Streaming Programming Guide](https://spark.apache.org/docs/latest/structured-streaming-programming-guide.html)\n",
    "- [Databricks Autoloader - Cloudfiles](https://docs.databricks.com/en/ingestion/auto-loader/index.html)\n",
    "- [In class examples - Spark Structured Streaming Performance](https://dbc-f85bdc5b-07db.cloud.databricks.com/editor/notebooks/2638424645880316?o=1093580174577663)\n",
    "\n",
    "### Be sure your project runs end to end when *Run all* is executued on this notebook! (7 points)\n",
    "\n",
    "### This project is worth 25% of your final grade.\n",
    "- DSCC-202 Students have 55 possible points on this project (see points above and the instructions below)\n",
    "- DSCC-402 Students have 60 possible points on this project (one extra section to complete)"
   ]
  },
  {
   "cell_type": "code",
   "execution_count": 0,
   "metadata": {
    "application/vnd.databricks.v1+cell": {
     "cellMetadata": {
      "byteLimit": 2048000,
      "rowLimit": 10000
     },
     "inputWidgets": {},
     "nuid": "068f25d0-1387-4342-89cf-ce82a8d614ce",
     "showTitle": true,
     "tableResultSettingsMap": {},
     "title": "Pull in the Includes & Utiltites"
    }
   },
   "outputs": [],
   "source": [
    "%run ./includes/includes"
   ]
  },
  {
   "cell_type": "code",
   "execution_count": 0,
   "metadata": {
    "application/vnd.databricks.v1+cell": {
     "cellMetadata": {
      "byteLimit": 2048000,
      "rowLimit": 10000
     },
     "inputWidgets": {},
     "nuid": "6512bf1b-50e0-4a4b-84a9-e280a6260b56",
     "showTitle": true,
     "tableResultSettingsMap": {},
     "title": "Notebook Control Widgets (maybe helpful)"
    }
   },
   "outputs": [],
   "source": [
    "\"\"\"\n",
    "Adding a widget to the notebook to control the clearing of a previous run.\n",
    "or stopping the active streams using routines defined in the utilities notebook\n",
    "\"\"\"\n",
    "dbutils.widgets.removeAll()\n",
    "\n",
    "dbutils.widgets.dropdown(\"clear_previous_run\", \"No\", [\"No\",\"Yes\"])\n",
    "if (getArgument(\"clear_previous_run\") == \"Yes\"):\n",
    "    clear_previous_run()\n",
    "    print(\"Cleared all previous data.\")\n",
    "\n",
    "dbutils.widgets.dropdown(\"stop_streams\", \"No\", [\"No\",\"Yes\"])\n",
    "if (getArgument(\"stop_streams\") == \"Yes\"):\n",
    "    stop_all_streams()\n",
    "    print(\"Stopped all active streams.\")\n",
    "\n",
    "dbutils.widgets.dropdown(\"optimize_tables\", \"No\", [\"No\",\"Yes\"])\n",
    "if (getArgument(\"optimize_tables\") == \"Yes\"):\n",
    "    # Suck up those small files that we have been appending.\n",
    "    # Optimize the tables\n",
    "    optimize_table(BRONZE_DELTA)\n",
    "    optimize_table(SILVER_DELTA)\n",
    "    optimize_table(GOLD_DELTA)\n",
    "    print(\"Optimized all of the Delta Tables\")"
   ]
  },
  {
   "cell_type": "markdown",
   "metadata": {
    "application/vnd.databricks.v1+cell": {
     "cellMetadata": {
      "byteLimit": 2048000,
      "rowLimit": 10000
     },
     "inputWidgets": {},
     "nuid": "e8ce7c13-7f8f-4e11-b50c-fdaebbcf3f99",
     "showTitle": false,
     "tableResultSettingsMap": {},
     "title": ""
    }
   },
   "source": [
    "## 1.0 Import your libraries here (2 points)\n",
    "- Are your shuffle partitions consistent with your cluster and your workload?\n",
    "- Do you have the necessary libraries to perform the required operations in the pipeline/application?"
   ]
  },
  {
   "cell_type": "code",
   "execution_count": 0,
   "metadata": {
    "application/vnd.databricks.v1+cell": {
     "cellMetadata": {
      "byteLimit": 2048000,
      "rowLimit": 10000
     },
     "inputWidgets": {},
     "nuid": "b0e07c5c-2436-447f-a8d1-dd572b5dcc06",
     "showTitle": false,
     "tableResultSettingsMap": {},
     "title": ""
    }
   },
   "outputs": [],
   "source": [
    "# Spark\n",
    "from pyspark.sql import SparkSession\n",
    "from pyspark.sql import functions as F\n",
    "from pyspark.sql import types as T\n",
    "\n",
    "# Delta Lake\n",
    "from delta.tables import DeltaTable\n",
    "\n",
    "# MLflow\n",
    "import mlflow\n",
    "import mlflow.spark\n",
    "import mlflow.pyfunc\n",
    "\n",
    "# Data science utilities\n",
    "import pandas as pd\n",
    "import numpy as np\n",
    "import matplotlib.pyplot as plt\n",
    "from sklearn.metrics import precision_recall_fscore_support, confusion_matrix\n",
    "\n",
    "# Python stdlib\n",
    "import time\n",
    "from datetime import datetime\n",
    "\n",
    "\n",
    "spark.conf.set(\"spark.sql.shuffle.partitions\", \"16\")    \n",
    "spark.conf.set(\"spark.default.parallelism\", \"16\")\n",
    "spark.conf.set(\"spark.sql.adaptive.enabled\", \"true\")"
   ]
  },
  {
   "cell_type": "markdown",
   "metadata": {
    "application/vnd.databricks.v1+cell": {
     "cellMetadata": {
      "byteLimit": 2048000,
      "rowLimit": 10000
     },
     "inputWidgets": {},
     "nuid": "2b7624b4-0aa5-46b7-9767-52f462b2c574",
     "showTitle": false,
     "tableResultSettingsMap": {},
     "title": ""
    }
   },
   "source": [
    "## 2.0 Define and execute utility functions (3 points)\n",
    "- Read the source file directory listing\n",
    "- Count the source files (how many are there?)\n",
    "- print the contents of one of the files"
   ]
  },
  {
   "cell_type": "code",
   "execution_count": 0,
   "metadata": {
    "application/vnd.databricks.v1+cell": {
     "cellMetadata": {
      "byteLimit": 2048000,
      "rowLimit": 10000
     },
     "inputWidgets": {},
     "nuid": "a59749d5-e45d-460f-9be1-33652cda2ea5",
     "showTitle": false,
     "tableResultSettingsMap": {},
     "title": ""
    }
   },
   "outputs": [],
   "source": [
    "def inspect_raw_tweets(path: str, sample_index: int = 0, head_chars: int = 1000):\n",
    "    \"\"\"\n",
    "    Lists and counts files under `path`, displays the file list,\n",
    "    and prints the first `head_chars` characters of the file at\n",
    "    position `sample_index`.\n",
    "    \"\"\"\n",
    "    files = dbutils.fs.ls(path)\n",
    "    count = len(files)\n",
    "    print(f\"Total source files found: {count}\")\n",
    "\n",
    "    if count == 0:\n",
    "        print(\"No files found in the source directory.\")\n",
    "        return files\n",
    "\n",
    "    if files:\n",
    "        idx = sample_index % count\n",
    "        sample_path = files[idx].path\n",
    "        print(f\"\\n--- Sample file [{idx}] path: {sample_path} ---\\n\")\n",
    "        print(dbutils.fs.head(sample_path, head_chars))\n",
    "\n",
    "    return files"
   ]
  },
  {
   "cell_type": "code",
   "execution_count": 0,
   "metadata": {
    "application/vnd.databricks.v1+cell": {
     "cellMetadata": {
      "byteLimit": 2048000,
      "rowLimit": 10000
     },
     "inputWidgets": {},
     "nuid": "5fa33a9e-72a8-401b-a112-178a80bb303f",
     "showTitle": false,
     "tableResultSettingsMap": {},
     "title": ""
    }
   },
   "outputs": [],
   "source": [
    "source_files = inspect_raw_tweets(TWEET_SOURCE_PATH, sample_index=0, head_chars=1000)"
   ]
  },
  {
   "cell_type": "markdown",
   "metadata": {
    "application/vnd.databricks.v1+cell": {
     "cellMetadata": {
      "byteLimit": 2048000,
      "rowLimit": 10000
     },
     "inputWidgets": {},
     "nuid": "1676aed7-527f-4ea7-9d3b-52544e8c1e37",
     "showTitle": false,
     "tableResultSettingsMap": {},
     "title": ""
    }
   },
   "source": [
    "## 3.0 Transform the Raw Data to Bronze Data using a stream  (8 points)\n",
    "- define the schema for the raw data\n",
    "- setup a read stream using cloudfiles and the source data format\n",
    "- setup a write stream using delta lake to append to the bronze delta table\n",
    "- enforce schema\n",
    "- allow a new schema to be merged into the bronze delta table\n",
    "- Use the defined BRONZE_CHECKPOINT and BRONZE_DELTA paths defined in the includes\n",
    "- name your raw to bronze stream as bronze_stream\n",
    "- transform the raw data to the bronze data using the data definition at the top of the notebook"
   ]
  },
  {
   "cell_type": "code",
   "execution_count": 0,
   "metadata": {
    "application/vnd.databricks.v1+cell": {
     "cellMetadata": {
      "byteLimit": 2048000,
      "rowLimit": 10000
     },
     "inputWidgets": {},
     "nuid": "c4e37574-9885-4908-bf97-609d140a8818",
     "showTitle": false,
     "tableResultSettingsMap": {},
     "title": ""
    }
   },
   "outputs": [],
   "source": [
    "# Schema for the raw tweet JSON\n",
    "raw_schema = T.StructType([\n",
    "    T.StructField(\"date\", T.StringType(), True),\n",
    "    T.StructField(\"user\", T.StringType(), True),\n",
    "    T.StructField(\"text\", T.StringType(), True),\n",
    "    T.StructField(\"sentiment\", T.StringType(), True)\n",
    "])\n",
    "# Read stream from source using cloudfiles\n",
    "raw_df = (\n",
    "    spark.readStream\n",
    "         .format(\"cloudFiles\")\n",
    "         .option(\"cloudFiles.format\", \"json\")\n",
    "         .option(\"cloudFiles.schemaLocation\", USER_DIR + \"bronze_schema\")\n",
    "         .option(\"maxFilesPerTrigger\", 100)\n",
    "         .schema(raw_schema)\n",
    "         .load(TWEET_SOURCE_PATH)\n",
    ")\n",
    "# Add metadata\n",
    "bronze_df = raw_df.select(\n",
    "    F.col(\"date\"),\n",
    "    F.col(\"user\"),\n",
    "    F.col(\"text\"),\n",
    "    F.col(\"sentiment\")\n",
    ").withColumn(\"source_file\", F.input_file_name()) \\\n",
    " .withColumn(\"processing_time\", F.current_timestamp())\n",
    "\n",
    "# Assign bronze tag \n",
    "spark.sparkContext.setLocalProperty(\"spark.scheduler.pool\", \"bronze\")\n",
    "\n",
    "#  Write the stream out to a Delta table (append mode)\n",
    "bronze_stream = (\n",
    "    bronze_df.writeStream\n",
    "             .format(\"delta\")\n",
    "             .option(\"checkpointLocation\", BRONZE_CHECKPOINT)\n",
    "             .option(\"mergeSchema\", \"true\")\n",
    "             .trigger(processingTime=\"30 seconds\")\n",
    "             .outputMode(\"append\")\n",
    "             .queryName(\"bronze_stream\")\n",
    "             .start(BRONZE_DELTA)\n",
    ")\n",
    "\n",
    "print(bronze_stream)\n"
   ]
  },
  {
   "cell_type": "code",
   "execution_count": 0,
   "metadata": {
    "application/vnd.databricks.v1+cell": {
     "cellMetadata": {
      "byteLimit": 2048000,
      "rowLimit": 10000
     },
     "inputWidgets": {},
     "nuid": "afce39f1-5b31-4393-9cfa-5e463c6b9f87",
     "showTitle": false,
     "tableResultSettingsMap": {},
     "title": ""
    }
   },
   "outputs": [],
   "source": [
    "if wait_for_delta_table(BRONZE_DELTA, timeout=120, check_interval=3):\n",
    "    print(\"✅ Bronze table ready.\")\n",
    "else:\n",
    "    raise RuntimeError(\"🛑 Bronze table never materialized!\")"
   ]
  },
  {
   "cell_type": "markdown",
   "metadata": {
    "application/vnd.databricks.v1+cell": {
     "cellMetadata": {
      "byteLimit": 2048000,
      "rowLimit": 10000
     },
     "inputWidgets": {},
     "nuid": "f94a594e-1a85-458f-9fe8-959e06d2e5f0",
     "showTitle": false,
     "tableResultSettingsMap": {},
     "title": ""
    }
   },
   "source": [
    "## 4.0 Transform the Bronze Data to Silver Data using a stream (5 points)\n",
    "- setup a read stream on your bronze delta table\n",
    "- setup a write stream to append to the silver delta table\n",
    "- Use the defined SILVER_CHECKPOINT and SILVER_DELTA paths in the includes\n",
    "- name your bronze to silver stream as silver_stream\n",
    "- transform the bronze data to the silver data using the data definition at the top of the notebook"
   ]
  },
  {
   "cell_type": "code",
   "execution_count": 0,
   "metadata": {
    "application/vnd.databricks.v1+cell": {
     "cellMetadata": {
      "byteLimit": 2048000,
      "rowLimit": 10000
     },
     "inputWidgets": {},
     "nuid": "091ec59c-d968-4acf-b56f-cc9178cd0693",
     "showTitle": false,
     "tableResultSettingsMap": {},
     "title": ""
    }
   },
   "outputs": [],
   "source": [
    "# Read a streaming DataFrame off the bronze Delta table\n",
    "bronze_stream_df = (\n",
    "    spark.readStream\n",
    "         .format(\"delta\")\n",
    "         .load(BRONZE_DELTA)\n",
    ")\n",
    "\n",
    "# Preprocess:\n",
    "#    - parse the date string into a proper timestamp\n",
    "#    - remove all \"@username\" mentions from the text to create cleaned_text\n",
    "#    - extract an array of tokens that start with \"@\" as mentions\n",
    "\n",
    "silver_base = (\n",
    "    bronze_stream_df\n",
    "      .withColumn(\"timestamp\", F.to_timestamp(F.col(\"date\")))\n",
    "      .withColumn(\"cleaned_text\", F.regexp_replace(F.col(\"text\"), \"@\\\\w+\", \"\"))\n",
    "      .withColumn(\"mentions\", F.expr(\"filter(split(text, ' '), x -> x like '@%')\"))\n",
    ")\n",
    "\n",
    "# Explode the mentions array so that each mention yields its own row\n",
    "\n",
    "silver_df = (silver_base.select(\n",
    "    F.col(\"timestamp\"),\n",
    "    F.col(\"sentiment\"),\n",
    "    F.explode(F.col(\"mentions\")).alias(\"mention\"),\n",
    "    F.col(\"cleaned_text\")\n",
    "    )\n",
    "    .filter(F.col(\"mention\").rlike(r\"^@[A-Za-z0-9_]+$\"))\n",
    ")\n",
    "\n",
    "# Assign silver tag \n",
    "spark.sparkContext.setLocalProperty(\"spark.scheduler.pool\", \"silver\")\n",
    "\n",
    "# Write the stream to the silver Delta table\n",
    "silver_stream = (\n",
    "    silver_df.writeStream\n",
    "            .format(\"delta\")\n",
    "            .option(\"checkpointLocation\", SILVER_CHECKPOINT)\n",
    "            .trigger(processingTime=\"20 seconds\")\n",
    "            .option(\"mergeSchema\", \"true\")\n",
    "            .outputMode(\"append\")\n",
    "            .queryName(\"silver_stream\")\n",
    "            .start(SILVER_DELTA)\n",
    ")\n",
    "\n",
    "print(silver_stream)"
   ]
  },
  {
   "cell_type": "code",
   "execution_count": 0,
   "metadata": {
    "application/vnd.databricks.v1+cell": {
     "cellMetadata": {
      "byteLimit": 2048000,
      "rowLimit": 10000
     },
     "inputWidgets": {},
     "nuid": "369f4832-2e33-40dd-86a7-0f543456c156",
     "showTitle": false,
     "tableResultSettingsMap": {},
     "title": ""
    }
   },
   "outputs": [],
   "source": [
    "if wait_for_delta_table(SILVER_DELTA, timeout=60, check_interval=5):\n",
    "    print(\"✅ Silver table ready.\")\n",
    "else:\n",
    "    raise RuntimeError(\"🛑 Silver table never materialized!\")"
   ]
  },
  {
   "cell_type": "markdown",
   "metadata": {
    "application/vnd.databricks.v1+cell": {
     "cellMetadata": {
      "byteLimit": 2048000,
      "rowLimit": 10000
     },
     "inputWidgets": {},
     "nuid": "9ee38aba-e340-4766-8339-71ef2ecfde3a",
     "showTitle": false,
     "tableResultSettingsMap": {},
     "title": ""
    }
   },
   "source": [
    "## 5.0 Transform the Silver Data to Gold Data using a stream (7 points)\n",
    "- setup a read stream on your silver delta table\n",
    "- setup a write stream to append to the gold delta table\n",
    "- Use the defined GOLD_CHECKPOINT and GOLD_DELTA paths defines in the includes\n",
    "- name your silver to gold stream as gold_stream\n",
    "- transform the silver data to the gold data using the data definition at the top of the notebook\n",
    "- Load the pretrained transformer sentiment classifier from the MODEL_NAME at the production level from the MLflow registry\n",
    "- Use a spark UDF to parallelize the inference across your silver data"
   ]
  },
  {
   "cell_type": "code",
   "execution_count": 0,
   "metadata": {
    "application/vnd.databricks.v1+cell": {
     "cellMetadata": {
      "byteLimit": 2048000,
      "rowLimit": 10000
     },
     "inputWidgets": {},
     "nuid": "31e8949d-c016-44a7-9f03-65f471dfd22d",
     "showTitle": false,
     "tableResultSettingsMap": {},
     "title": ""
    }
   },
   "outputs": [],
   "source": [
    "# Read a streaming DataFrame off the silver Delta table\n",
    "silver_input = (\n",
    "    spark.readStream\n",
    "         .format(\"delta\")\n",
    "         .load(SILVER_DELTA)\n",
    ")\n",
    "\n",
    "# Load the MLflow model as a Spark UDF\n",
    "MODEL_URI = f\"models:/{MODEL_NAME}/Production\"\n",
    "sentiment_udf = mlflow.pyfunc.spark_udf(\n",
    "    spark,\n",
    "    model_uri=MODEL_URI,\n",
    "    env_manager=\"local\"\n",
    ")\n",
    "\n",
    "# Apply UDF and format data\n",
    "gold_df = (\n",
    "    silver_input\n",
    "      # Call the UDF\n",
    "      .withColumn(\"out\", sentiment_udf(F.col(\"cleaned_text\")))\n",
    "      .withColumn(\"predicted_score\", F.col(\"out.score\") * 100)\n",
    "      .withColumn(\"raw_pred_label\", F.col(\"out.label\"))\n",
    "      # Normalize into three classes (positive, neutral, negative)\n",
    "      .withColumn(\n",
    "          \"predicted_sentiment\",\n",
    "          F.when(F.col(\"out.label\") == \"NEG\", \"negative\")\n",
    "          .when(F.col(\"out.label\") == \"NEU\", \"neutral\")\n",
    "         .otherwise(\"positive\")        \n",
    "      )\n",
    "      # map to IDs only positive and negative\n",
    "      .withColumn(\n",
    "         \"predicted_sentiment_id\",\n",
    "         F.when(F.col(\"predicted_sentiment\") == \"negative\", 0)\n",
    "         .otherwise(1) # neutral & positive → 1\n",
    "      )\n",
    "      .withColumn(\n",
    "         \"sentiment_id\",\n",
    "         F.when(F.col(\"sentiment\") == \"negative\", 0)\n",
    "         .otherwise(1)\n",
    "      )\n",
    "      # select the final schema\n",
    "      .select(\n",
    "         \"timestamp\",\"mention\",\"cleaned_text\",\"sentiment\",\n",
    "         \"predicted_score\",\"predicted_sentiment\",\"predicted_sentiment_id\",\n",
    "         \"sentiment_id\"\n",
    "      )\n",
    ")\n",
    "\n",
    "# Assign gold tag \n",
    "spark.sparkContext.setLocalProperty(\"spark.scheduler.pool\", \"gold\")\n",
    "\n",
    "# Write the stream to the gold Delta table\n",
    "gold_stream = (\n",
    "    gold_df.writeStream\n",
    "           .format(\"delta\")\n",
    "           .option(\"checkpointLocation\", GOLD_CHECKPOINT)\n",
    "           .trigger(processingTime=\"60 seconds\")\n",
    "           .outputMode(\"append\")\n",
    "           .queryName(\"gold_stream\")\n",
    "           .start(GOLD_DELTA)\n",
    ")\n",
    "\n",
    "print(gold_stream)\n"
   ]
  },
  {
   "cell_type": "code",
   "execution_count": 0,
   "metadata": {
    "application/vnd.databricks.v1+cell": {
     "cellMetadata": {
      "byteLimit": 2048000,
      "rowLimit": 10000
     },
     "inputWidgets": {},
     "nuid": "95b83bdc-025e-4aa4-8124-8ce74362676d",
     "showTitle": false,
     "tableResultSettingsMap": {},
     "title": ""
    }
   },
   "outputs": [],
   "source": [
    "if wait_for_delta_table(GOLD_DELTA, timeout=180, check_interval=5):\n",
    "    print(\"✅ Gold table ready.\")\n",
    "else:\n",
    "    raise RuntimeError(\"🛑 Gold table never materialized!\")"
   ]
  },
  {
   "cell_type": "markdown",
   "metadata": {
    "application/vnd.databricks.v1+cell": {
     "cellMetadata": {
      "byteLimit": 2048000,
      "rowLimit": 10000
     },
     "inputWidgets": {},
     "nuid": "05cd829f-46d6-4d94-8555-887d29a33daf",
     "showTitle": false,
     "tableResultSettingsMap": {},
     "title": ""
    }
   },
   "source": [
    "## 6.0 Monitor your Streams (5 points)\n",
    "- Setup a loop that runs at least every 10 seconds\n",
    "- Print a timestamp of the monitoring query along with the list of streams, rows processed on each, and the processing time on each\n",
    "- Run the loop until all of the data is processed (0 rows read on each active stream)\n",
    "- Plot a line graph that shows the data processed by each stream over time\n",
    "- Plot a line graph that shows the average processing time on each stream over time"
   ]
  },
  {
   "cell_type": "code",
   "execution_count": 0,
   "metadata": {
    "application/vnd.databricks.v1+cell": {
     "cellMetadata": {
      "byteLimit": 2048000,
      "rowLimit": 10000
     },
     "inputWidgets": {},
     "nuid": "acbddf2c-0c20-46d9-aa42-c5aed3e2f839",
     "showTitle": false,
     "tableResultSettingsMap": {},
     "title": ""
    }
   },
   "outputs": [],
   "source": [
    "monitoring_log = []\n",
    "\n",
    "# 1) Run until all streams read 0 new rows\n",
    "while True:\n",
    "    stats_df = get_streaming_stats()   \n",
    "    now = datetime.now()\n",
    "    print(f\"\\nMonitoring at {now}\")\n",
    "    for _, row in stats_df.iterrows():\n",
    "        print(f\"{row['query']}: rows={row['input_rows']}, proc_time={row['processing_time']} ms\")\n",
    "    stats_df['monitoring_time'] = now\n",
    "    monitoring_log.append(stats_df)\n",
    "    if (stats_df.groupby('query')['input_rows'].last() == 0).all():\n",
    "        break\n",
    "    time.sleep(10)\n",
    "\n",
    "# Combine all snapshots\n",
    "log_df = pd.concat(monitoring_log)\n",
    "\n",
    "# Aggregate to remove duplicate (monitoring_time, query) entries\n",
    "agg_df = (\n",
    "    log_df\n",
    "      .groupby(['monitoring_time', 'query'], as_index=False)\n",
    "      .agg({\n",
    "          'input_rows': 'sum',          \n",
    "          'processing_time': 'mean'\n",
    "      })\n",
    ")\n",
    "\n",
    "# Plotting\n",
    "pivot_rows = agg_df.pivot(index='monitoring_time', columns='query', values='input_rows')\n",
    "pivot_proc = agg_df.pivot(index='monitoring_time', columns='query', values='processing_time')\n",
    "\n",
    "ax1 = pivot_rows.plot(figsize=(10, 5))\n",
    "ax1.set_title(\"Rows Processed Over Time\")\n",
    "ax1.set_xlabel(\"Time\")\n",
    "ax1.set_ylabel(\"Input Rows\")\n",
    "plt.xticks(rotation=45)\n",
    "plt.tight_layout()\n",
    "plt.show()\n",
    "\n",
    "ax2 = pivot_proc.plot(figsize=(10, 5))\n",
    "ax2.set_title(\"Processing Time Over Time\")\n",
    "ax2.set_xlabel(\"Time\")\n",
    "ax2.set_ylabel(\"Processing Time (ms)\")\n",
    "plt.xticks(rotation=45)\n",
    "plt.tight_layout()\n",
    "plt.show()"
   ]
  },
  {
   "cell_type": "markdown",
   "metadata": {
    "application/vnd.databricks.v1+cell": {
     "cellMetadata": {
      "byteLimit": 2048000,
      "rowLimit": 10000
     },
     "inputWidgets": {},
     "nuid": "9bc3e824-d218-43e5-a43b-4c6dbe31950d",
     "showTitle": false,
     "tableResultSettingsMap": {},
     "title": ""
    }
   },
   "source": [
    "## 7.0 Bronze Data Exploratory Data Analysis (5 points)\n",
    "- How many tweets are captured in your Bronze Table?\n",
    "- Are there any columns that contain Nan or Null values?  If so how many and what will you do in your silver transforms to address this?\n",
    "- Count the number of tweets by each unique user handle and sort the data by descending count.\n",
    "- How many tweets have at least one mention (@) how many tweet have no mentions (@)\n",
    "- Plot a bar chart that shows the top 20 tweeters (users)\n"
   ]
  },
  {
   "cell_type": "code",
   "execution_count": 0,
   "metadata": {
    "application/vnd.databricks.v1+cell": {
     "cellMetadata": {
      "byteLimit": 2048000,
      "rowLimit": 10000
     },
     "inputWidgets": {},
     "nuid": "33e05866-0264-43af-8a95-52e841124d60",
     "showTitle": false,
     "tableResultSettingsMap": {},
     "title": ""
    }
   },
   "outputs": [],
   "source": [
    "# Load the Bronze Delta table\n",
    "bronze_df = spark.read.format(\"delta\").load(BRONZE_DELTA)\n",
    "\n",
    "# Total number of tweets\n",
    "total_tweets = bronze_df.count()\n",
    "print(f\"Total tweets in Bronze table: {total_tweets}\")\n",
    "\n",
    "# Count NULL values per column \n",
    "null_counts = bronze_df.select([\n",
    "    F.count(F.when(F.col(c).isNull(), c)).alias(c)\n",
    "    for c in bronze_df.columns\n",
    "])\n",
    "print(\"Null counts per column:\")\n",
    "null_counts.show()\n",
    "\n",
    "# Tweets per user, descending\n",
    "user_tweet_counts = (\n",
    "    bronze_df.groupBy(\"user\")\n",
    "             .count()\n",
    "             .orderBy(F.col(\"count\").desc())\n",
    ")\n",
    "print(\"Top 20 users by tweet count:\")\n",
    "display(user_tweet_counts.limit(20))\n",
    "\n",
    "# Tweets with vs. without mentions\n",
    "has_mention = F.when(F.col(\"text\").contains(\"@\"), 1).otherwise(0)\n",
    "counts = (\n",
    "    bronze_df\n",
    "      .withColumn(\"has_mention\", has_mention)\n",
    "      .groupBy(\"has_mention\")\n",
    "      .count()\n",
    "      .collect()\n",
    ")\n",
    "num_with  = next(r[\"count\"] for r in counts if r[\"has_mention\"] == 1)\n",
    "num_without = next(r[\"count\"] for r in counts if r[\"has_mention\"] == 0)\n",
    "print(f\"Tweets with ≥1 mention: {num_with}\")\n",
    "print(f\"Tweets with 0 mentions: {num_without}\")\n",
    "\n",
    "# Plot top 20 tweeters\n",
    "top20 = user_tweet_counts.limit(20).toPandas()\n",
    "plt.figure(figsize=(12, 6))\n",
    "plt.bar(top20[\"user\"], top20[\"count\"])\n",
    "plt.xticks(rotation=45, ha=\"right\")\n",
    "plt.title(\"Top 20 Tweeters by Tweet Count\")\n",
    "plt.xlabel(\"User Handle\")\n",
    "plt.ylabel(\"Number of Tweets\")\n",
    "plt.tight_layout()\n",
    "plt.show()\n"
   ]
  },
  {
   "cell_type": "markdown",
   "metadata": {
    "application/vnd.databricks.v1+cell": {
     "cellMetadata": {
      "byteLimit": 2048000,
      "rowLimit": 10000
     },
     "inputWidgets": {},
     "nuid": "0494d8b4-5a55-47fc-af12-47325f34a303",
     "showTitle": false,
     "tableResultSettingsMap": {},
     "title": ""
    }
   },
   "source": [
    "## 8.0 Capture the accuracy metrics from the gold table in MLflow  (4 points)\n",
    "Store the following in an MLflow experiment run:\n",
    "- Store the precision, recall, and F1-score as MLflow metrics\n",
    "- Store an image of the confusion matrix as an MLflow artifact\n",
    "- Store the model name and the MLflow version that was used as an MLflow parameters\n",
    "- Store the version of the Delta Table (input-silver) as an MLflow parameter"
   ]
  },
  {
   "cell_type": "code",
   "execution_count": 0,
   "metadata": {
    "application/vnd.databricks.v1+cell": {
     "cellMetadata": {
      "byteLimit": 2048000,
      "rowLimit": 10000
     },
     "inputWidgets": {},
     "nuid": "3bb174ad-67e4-4b0a-be36-ff20a760ee8b",
     "showTitle": false,
     "tableResultSettingsMap": {},
     "title": ""
    }
   },
   "outputs": [],
   "source": [
    "# Load the Gold Delta table\n",
    "gold_df = spark.read.format(\"delta\").load(GOLD_DELTA)\n",
    "\n",
    "# 2) Filter out any rows with NULL true or predicted labels\n",
    "clean_gold = gold_df.filter(\n",
    "   F.col(\"sentiment_id\").isNotNull() & F.col(\"predicted_sentiment_id\").isNotNull()\n",
    ")\n",
    "\n",
    "# 3) Select true and predicted labels\n",
    "labels_df = clean_gold.select(\n",
    "    F.col(\"sentiment_id\").alias(\"true\"),\n",
    "    F.col(\"predicted_sentiment_id\").alias(\"pred\")\n",
    ")\n",
    "\n",
    "# 4) Convert to Pandas and extract NumPy arrays\n",
    "pandas_df = labels_df.toPandas()\n",
    "y_true = pandas_df[\"true\"].astype(int).values\n",
    "y_pred = pandas_df[\"pred\"].astype(int).values\n",
    "\n",
    "# 5) Compute precision, recall, and F1‑score (macro‑averaged)\n",
    "precision, recall, f1, _ = precision_recall_fscore_support(\n",
    "    y_true, y_pred, average=\"macro\", zero_division=0\n",
    ")\n",
    "\n",
    "# 6) Compute confusion matrix\n",
    "cm = confusion_matrix(y_true, y_pred)\n",
    "\n",
    "# 7) Plot and save confusion matrix\n",
    "fig, ax = plt.subplots(figsize=(4, 4))\n",
    "im = ax.imshow(cm, interpolation=\"nearest\", cmap=plt.cm.Blues)\n",
    "ax.figure.colorbar(im, ax=ax)\n",
    "classes = [\"negative\", \"positive\"]\n",
    "ax.set_xticks(np.arange(len(classes)))\n",
    "ax.set_yticks(np.arange(len(classes)))\n",
    "ax.set_xticklabels(classes)\n",
    "ax.set_yticklabels(classes)\n",
    "ax.set_xlabel(\"Predicted label\")\n",
    "ax.set_ylabel(\"True label\")\n",
    "ax.set_title(\"Confusion Matrix\")\n",
    "for i in range(cm.shape[0]):\n",
    "    for j in range(cm.shape[1]):\n",
    "        ax.text(j, i, cm[i, j],\n",
    "                ha=\"center\", va=\"center\",\n",
    "                color=\"white\" if cm[i, j] > cm.max() / 2 else \"black\")\n",
    "plt.tight_layout()\n",
    "conf_matrix_path = \"/tmp/confusion_matrix.png\"\n",
    "fig.savefig(conf_matrix_path)\n",
    "plt.close(fig)\n",
    "\n",
    "# 8) Retrieve Delta table version for the silver input\n",
    "silver_table = DeltaTable.forPath(spark, SILVER_DELTA)\n",
    "silver_version = silver_table.history(1).select(\"version\").first()[\"version\"]\n",
    "\n",
    "# 9) Log everything to MLflow\n",
    "with mlflow.start_run() as run:\n",
    "    # Parameters\n",
    "    mlflow.log_param(\"model_name\", MODEL_NAME)\n",
    "    mlflow.log_param(\"mlflow_version\", mlflow.__version__)\n",
    "    mlflow.log_param(\"silver_delta_version\", silver_version)\n",
    "    # Metrics\n",
    "    mlflow.log_metric(\"precision_macro\", precision)\n",
    "    mlflow.log_metric(\"recall_macro\", recall)\n",
    "    mlflow.log_metric(\"f1_macro\", f1)\n",
    "    # Artifact\n",
    "    mlflow.log_artifact(conf_matrix_path, artifact_path=\"confusion_matrix\")\n",
    "    print(f\"Logged MLflow run: {run.info.run_id}\")"
   ]
  },
  {
   "cell_type": "markdown",
   "metadata": {
    "application/vnd.databricks.v1+cell": {
     "cellMetadata": {
      "byteLimit": 2048000,
      "rowLimit": 10000
     },
     "inputWidgets": {},
     "nuid": "81e0e2de-b872-4698-81cc-1669646c2183",
     "showTitle": false,
     "tableResultSettingsMap": {},
     "title": ""
    }
   },
   "source": [
    "## 9.0 Application Data Processing and Visualization (6 points)\n",
    "- How many mentions are there in the gold data total?\n",
    "- Count the number of neutral, positive and negative tweets for each mention in new columns\n",
    "- Capture the total for each mention in a new column\n",
    "- Sort the mention count totals in descending order\n",
    "- Plot a bar chart of the top 20 mentions with positive sentiment (the people who are in favor)\n",
    "- Plot a bar chart of the top 20 mentions with negative sentiment (the people who are the vilians)\n",
    "\n",
    "*note: A mention is a specific twitter user that has been \"mentioned\" in a tweet with an @user reference."
   ]
  },
  {
   "cell_type": "code",
   "execution_count": 0,
   "metadata": {
    "application/vnd.databricks.v1+cell": {
     "cellMetadata": {
      "byteLimit": 2048000,
      "rowLimit": 10000
     },
     "inputWidgets": {},
     "nuid": "8250667b-eaa5-48a1-90c7-bfe11e666e32",
     "showTitle": false,
     "tableResultSettingsMap": {},
     "title": ""
    }
   },
   "outputs": [],
   "source": [
    "# Load the Gold Delta table\n",
    "gold_df = spark.read.format(\"delta\").load(GOLD_DELTA)\n",
    "\n",
    "# Total mentions (rows) in gold\n",
    "total_mentions = gold_df.count()\n",
    "print(f\"Total mention‐rows in Gold data: {total_mentions}\")\n",
    "\n",
    "# Aggregate counts of each sentiment per mention\n",
    "agg_df = (\n",
    "    gold_df.groupBy(\"mention\")\n",
    "           .agg(\n",
    "               F.sum(F.when(F.col(\"predicted_sentiment\") == \"negative\", 1).otherwise(0)).alias(\"negative\"),\n",
    "               F.sum(F.when(F.col(\"predicted_sentiment\") == \"neutral\",  1).otherwise(0)).alias(\"neutral\"),\n",
    "               F.sum(F.when(F.col(\"predicted_sentiment\") == \"positive\", 1).otherwise(0)).alias(\"positive\")\n",
    "           )\n",
    "           # 4) Total tweets per mention\n",
    "           .withColumn(\"total\", F.col(\"negative\") + F.col(\"neutral\") + F.col(\"positive\"))\n",
    ")\n",
    "\n",
    "# Sort by total descending\n",
    "sorted_df = agg_df.orderBy(F.col(\"total\").desc())\n",
    "\n",
    "# Show top 10 mentions by total\n",
    "print(\"Top 10 mentions by total tweets:\")\n",
    "sorted_df.show(10, truncate=False)\n",
    "\n",
    "# Plot top 20 mentions with highest positive counts\n",
    "top20_pos = sorted_df.orderBy(F.col(\"positive\").desc()).limit(20).toPandas()\n",
    "plt.figure(figsize=(12, 6))\n",
    "plt.bar(top20_pos[\"mention\"], top20_pos[\"positive\"])\n",
    "plt.xticks(rotation=45, ha=\"right\")\n",
    "plt.title(\"Top 20 Mentions by Positive Tweet Count\")\n",
    "plt.xlabel(\"Mention\")\n",
    "plt.ylabel(\"Positive Tweets\")\n",
    "plt.tight_layout()\n",
    "plt.show()\n",
    "\n",
    "# Plot top 20 mentions with highest negative counts\n",
    "top20_neg = sorted_df.orderBy(F.col(\"negative\").desc()).limit(20).toPandas()\n",
    "plt.figure(figsize=(12, 6))\n",
    "plt.bar(top20_neg[\"mention\"], top20_neg[\"negative\"])\n",
    "plt.xticks(rotation=45, ha=\"right\")\n",
    "plt.title(\"Top 20 Mentions by Negative Tweet Count\")\n",
    "plt.xlabel(\"Mention\")\n",
    "plt.ylabel(\"Negative Tweets\")\n",
    "plt.tight_layout()\n",
    "plt.show()"
   ]
  },
  {
   "cell_type": "markdown",
   "metadata": {
    "application/vnd.databricks.v1+cell": {
     "cellMetadata": {
      "byteLimit": 2048000,
      "rowLimit": 10000
     },
     "inputWidgets": {},
     "nuid": "5d5add3f-0c13-4d81-86d8-12cf3cfdd2c8",
     "showTitle": false,
     "tableResultSettingsMap": {},
     "title": ""
    }
   },
   "source": [
    "## 10.0 Clean up and completion of your pipeline (3 points)\n",
    "- using the utilities what streams are running? If any.\n",
    "- Stop all active streams\n",
    "- print out the elapsed time of your notebook. Note: In the includes there is a variable START_TIME that captures the starting time of the notebook."
   ]
  },
  {
   "cell_type": "code",
   "execution_count": 0,
   "metadata": {
    "application/vnd.databricks.v1+cell": {
     "cellMetadata": {
      "byteLimit": 2048000,
      "rowLimit": 10000
     },
     "inputWidgets": {},
     "nuid": "0304e685-c26e-447d-b230-c37266f30003",
     "showTitle": false,
     "tableResultSettingsMap": {},
     "title": ""
    }
   },
   "outputs": [],
   "source": [
    "# List any active streams\n",
    "active = [s.name for s in spark.streams.active]\n",
    "print(\"Active streams before stopping:\", active)\n",
    "\n",
    "# Stop all active streams\n",
    "if stop_all_streams():\n",
    "    print(\"Stopped all active streams.\")\n",
    "else:\n",
    "    print(\"No active streams to stop.\")\n",
    "\n",
    "# Calculate and print elapsed time\n",
    "elapsed = time.time() - START_TIME\n",
    "print(f\"Total elapsed time: {elapsed:.2f} seconds\")"
   ]
  },
  {
   "cell_type": "markdown",
   "metadata": {
    "application/vnd.databricks.v1+cell": {
     "cellMetadata": {
      "byteLimit": 2048000,
      "rowLimit": 10000
     },
     "inputWidgets": {},
     "nuid": "b88fc0e5-f50c-4ed1-9480-16a4c8a44b30",
     "showTitle": false,
     "tableResultSettingsMap": {},
     "title": ""
    }
   },
   "source": [
    "## 11.0 How Optimized is your Spark Application (Grad Students Only) (5 points)\n",
    "Graduate students (registered for the DSCC-402 section of the course) are required to do this section.  This is a written analysis using the Spark UI (link to screen shots) that support your analysis of your pipelines execution and what is driving its performance.\n",
    "Recall that Spark Optimization has 5 significant dimensions of considertation:\n",
    "- Spill: write to executor disk due to lack of memory\n",
    "- Skew: imbalance in partition size\n",
    "- Shuffle: network io moving data between executors (wide transforms)\n",
    "- Storage: inefficiency due to disk storage format (small files, location)\n",
    "- Serialization: distribution of code segments across the cluster\n",
    "\n",
    "Comment on each of the dimentions of performance and how your impelementation is or is not being affected.  Use specific information in the Spark UI to support your description.  \n",
    "\n",
    "Note: you can take sreenshots of the Spark UI from your project runs in databricks and then link to those pictures by storing them as a publicly accessible file on your cloud drive (google, one drive, etc.)\n",
    "\n",
    "References:\n",
    "- [Spark UI Reference Reference](https://spark.apache.org/docs/latest/web-ui.html#web-ui)\n",
    "- [Spark UI Simulator](https://www.databricks.training/spark-ui-simulator/index.html)"
   ]
  },
  {
   "cell_type": "markdown",
   "metadata": {
    "application/vnd.databricks.v1+cell": {
     "cellMetadata": {
      "byteLimit": 2048000,
      "rowLimit": 10000
     },
     "inputWidgets": {},
     "nuid": "a0a5707d-a5ca-4e87-9e74-3b13d00337b0",
     "showTitle": false,
     "tableResultSettingsMap": {},
     "title": ""
    }
   },
   "source": [
    "### ENTER YOUR MARKDOWN HERE"
   ]
  }
 ],
 "metadata": {
  "application/vnd.databricks.v1+notebook": {
   "computePreferences": null,
   "dashboards": [],
   "environmentMetadata": null,
   "inputWidgetPreferences": null,
   "language": "python",
   "notebookMetadata": {
    "mostRecentlyExecutedCommandWithImplicitDF": {
     "commandId": -1,
     "dataframes": [
      "_sqldf"
     ]
    },
    "pythonIndentUnit": 4,
    "widgetLayout": [
     {
      "breakBefore": false,
      "name": "clear_previous_run",
      "width": 203
     },
     {
      "breakBefore": false,
      "name": "stop_streams",
      "width": 203
     }
    ]
   },
   "notebookName": "test_pool",
   "widgets": {
    "clear_previous_run": {
     "currentValue": "Yes",
     "nuid": "11b43403-c70f-41ef-ab0e-41172583baaa",
     "typedWidgetInfo": {
      "autoCreated": false,
      "defaultValue": "No",
      "label": null,
      "name": "clear_previous_run",
      "options": {
       "widgetDisplayType": "Dropdown",
       "choices": [
        "No",
        "Yes"
       ],
       "fixedDomain": true,
       "multiselect": false
      },
      "parameterDataType": "String"
     },
     "widgetInfo": {
      "widgetType": "dropdown",
      "defaultValue": "No",
      "label": null,
      "name": "clear_previous_run",
      "options": {
       "widgetType": "dropdown",
       "autoCreated": null,
       "choices": [
        "No",
        "Yes"
       ]
      }
     }
    },
    "optimize_tables": {
     "currentValue": "Yes",
     "nuid": "d27f2950-3146-4010-8bc6-58c47a93e7a9",
     "typedWidgetInfo": {
      "autoCreated": false,
      "defaultValue": "No",
      "label": null,
      "name": "optimize_tables",
      "options": {
       "widgetDisplayType": "Dropdown",
       "choices": [
        "No",
        "Yes"
       ],
       "fixedDomain": true,
       "multiselect": false
      },
      "parameterDataType": "String"
     },
     "widgetInfo": {
      "widgetType": "dropdown",
      "defaultValue": "No",
      "label": null,
      "name": "optimize_tables",
      "options": {
       "widgetType": "dropdown",
       "autoCreated": null,
       "choices": [
        "No",
        "Yes"
       ]
      }
     }
    },
    "stop_streams": {
     "currentValue": "Yes",
     "nuid": "d70a2190-266e-473c-86a7-84f7bf56b386",
     "typedWidgetInfo": {
      "autoCreated": false,
      "defaultValue": "No",
      "label": null,
      "name": "stop_streams",
      "options": {
       "widgetDisplayType": "Dropdown",
       "choices": [
        "No",
        "Yes"
       ],
       "fixedDomain": true,
       "multiselect": false
      },
      "parameterDataType": "String"
     },
     "widgetInfo": {
      "widgetType": "dropdown",
      "defaultValue": "No",
      "label": null,
      "name": "stop_streams",
      "options": {
       "widgetType": "dropdown",
       "autoCreated": null,
       "choices": [
        "No",
        "Yes"
       ]
      }
     }
    }
   }
  },
  "language_info": {
   "name": "python"
  }
 },
 "nbformat": 4,
 "nbformat_minor": 0
}
